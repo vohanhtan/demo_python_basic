{
 "cells": [
  {
   "cell_type": "markdown",
   "id": "794859ce",
   "metadata": {},
   "source": [
    "### Import and Config"
   ]
  },
  {
   "cell_type": "code",
   "execution_count": 1,
   "id": "5dbbee45",
   "metadata": {},
   "outputs": [],
   "source": [
    "# method: setup\n",
    "import pandas as pd\n",
    "from pathlib import Path\n",
    "\n",
    "aapl_clean = Path(\"data/aapl_cleaned.csv\")\n",
    "msft_clean = Path(\"data/msft_cleaned.csv\")\n",
    "vnindex_clean = Path(\"data/vnindex_cleaned.csv\")\n",
    "\n",
    "out_dir = Path(\"data\")\n",
    "out_dir.mkdir(parents=True, exist_ok=True)"
   ]
  },
  {
   "cell_type": "markdown",
   "id": "826e8cd5",
   "metadata": {},
   "source": [
    "### Helpers"
   ]
  },
  {
   "cell_type": "code",
   "execution_count": 2,
   "id": "906b3e3e",
   "metadata": {},
   "outputs": [],
   "source": [
    "# method: reusable io + checks\n",
    "def load_df(path: Path) -> pd.DataFrame:\n",
    "    df = pd.read_csv(path, parse_dates=[\"date\"])\n",
    "    df = df.sort_values(\"date\").drop_duplicates(subset=\"date\", keep=\"last\").reset_index(drop=True)\n",
    "    if \"close\" not in df.columns: \n",
    "        raise ValueError(f\"{path} missing 'close'\")\n",
    "    return df[[\"date\",\"close\"]].dropna()\n",
    "\n",
    "def report(df: pd.DataFrame) -> dict:\n",
    "    return {\n",
    "        \"rows\": len(df),\n",
    "        \"min\": df[\"date\"].min(),\n",
    "        \"max\": df[\"date\"].max(),\n",
    "        \"date_is_dt\": pd.api.types.is_datetime64_any_dtype(df[\"date\"]),\n",
    "        \"close_is_num\": pd.api.types.is_numeric_dtype(df[\"close\"]),\n",
    "        \"dup\": int(df[\"date\"].duplicated().sum()),\n",
    "        \"na_close\": int(df[\"close\"].isna().sum()),\n",
    "        \"sorted\": df[\"date\"].is_monotonic_increasing,\n",
    "        \"neg_close\": int((df[\"close\"] < 0).sum()),\n",
    "    }\n",
    "\n",
    "def assert_ready(r: dict, min_rows=500):\n",
    "    assert r[\"date_is_dt\"] and r[\"close_is_num\"]\n",
    "    assert r[\"dup\"] == 0 and r[\"na_close\"] == 0\n",
    "    assert r[\"sorted\"] and r[\"neg_close\"] == 0\n",
    "    assert r[\"rows\"] >= min_rows"
   ]
  },
  {
   "cell_type": "markdown",
   "id": "199d7e11",
   "metadata": {},
   "source": [
    "### load & show current ranges"
   ]
  },
  {
   "cell_type": "code",
   "execution_count": 3,
   "id": "8c316dee",
   "metadata": {},
   "outputs": [
    {
     "name": "stdout",
     "output_type": "stream",
     "text": [
      "AAPL: 2020-06-04 → 2025-06-02 | rows=1255\n",
      "MSFT: 2018-01-02 → 2025-10-17 | rows=1960\n",
      "VNINDEX: 2018-01-02 → 2023-03-22 | rows=1303\n"
     ]
    }
   ],
   "source": [
    "# method: load and inspect ranges\n",
    "aapl = load_df(aapl_clean)\n",
    "msft = load_df(msft_clean)\n",
    "vnindex = load_df(vnindex_clean)\n",
    "\n",
    "for name, df in [(\"AAPL\", aapl), (\"MSFT\", msft), (\"VNINDEX\", vnindex)]:\n",
    "    r = report(df)\n",
    "    print(f\"{name}: {r['min'].date()} → {r['max'].date()} | rows={r['rows']}\")"
   ]
  },
  {
   "cell_type": "markdown",
   "id": "18e64591",
   "metadata": {},
   "source": []
  },
  {
   "cell_type": "markdown",
   "id": "6d6cdcef",
   "metadata": {},
   "source": [
    "### compute true overlap and cut"
   ]
  },
  {
   "cell_type": "code",
   "execution_count": 4,
   "id": "3ae5de9c",
   "metadata": {},
   "outputs": [
    {
     "name": "stdout",
     "output_type": "stream",
     "text": [
      "overlap: 2020-06-04 → 2023-03-22\n",
      "AAPL_aligned: 2020-06-04 → 2023-03-22 | rows=705\n",
      "MSFT_aligned: 2020-06-04 → 2023-03-22 | rows=705\n",
      "VNINDEX_aligned: 2020-06-04 → 2023-03-22 | rows=701\n"
     ]
    }
   ],
   "source": [
    "# method: compute overlap = [max(start), min(end)]\n",
    "start_common = max(aapl[\"date\"].min(), msft[\"date\"].min(), vnindex[\"date\"].min())\n",
    "end_common   = min(aapl[\"date\"].max(), msft[\"date\"].max(), vnindex[\"date\"].max())\n",
    "print(\"overlap:\", start_common.date(), \"→\", end_common.date())\n",
    "\n",
    "def cut(df: pd.DataFrame, s, e) -> pd.DataFrame:\n",
    "    df2 = df[(df[\"date\"] >= s) & (df[\"date\"] <= e)].reset_index(drop=True)\n",
    "    return df2\n",
    "\n",
    "aapl_al   = cut(aapl,   start_common, end_common)\n",
    "msft_al   = cut(msft,   start_common, end_common)\n",
    "vnindex_al= cut(vnindex,start_common, end_common)\n",
    "\n",
    "for name, df in [(\"AAPL_aligned\", aapl_al), (\"MSFT_aligned\", msft_al), (\"VNINDEX_aligned\", vnindex_al)]:\n",
    "    print(f\"{name}: {df['date'].min().date()} → {df['date'].max().date()} | rows={len(df)}\")"
   ]
  },
  {
   "cell_type": "markdown",
   "id": "dec836e5",
   "metadata": {},
   "source": [
    "### final readiness check on aligned data"
   ]
  },
  {
   "cell_type": "code",
   "execution_count": 5,
   "id": "e89db663",
   "metadata": {},
   "outputs": [
    {
     "name": "stdout",
     "output_type": "stream",
     "text": [
      "AAPL_aligned: READY | rows=705\n",
      "MSFT_aligned: READY | rows=705\n",
      "VNINDEX_aligned: READY | rows=701\n"
     ]
    }
   ],
   "source": [
    "# method: final validation before API\n",
    "for name, df in [(\"AAPL_aligned\", aapl_al), (\"MSFT_aligned\", msft_al), (\"VNINDEX_aligned\", vnindex_al)]:\n",
    "    r = report(df)\n",
    "    try:\n",
    "        assert_ready(r, min_rows=500)\n",
    "        print(f\"{name}: READY | rows={r['rows']}\")\n",
    "    except AssertionError as e:\n",
    "        print(f\"{name}: NOT READY -> {e}\")"
   ]
  },
  {
   "cell_type": "markdown",
   "id": "d3994a49",
   "metadata": {},
   "source": [
    "### save aligned csvs"
   ]
  },
  {
   "cell_type": "code",
   "execution_count": 6,
   "id": "4181bf34",
   "metadata": {},
   "outputs": [
    {
     "name": "stdout",
     "output_type": "stream",
     "text": [
      "saved:\n",
      " - data/aapl_aligned.csv\n",
      " - data/msft_aligned.csv\n",
      " - data/vnindex_aligned.csv\n",
      " - data/all_aligned.csv\n"
     ]
    }
   ],
   "source": [
    "aapl_out = out_dir / \"aapl_aligned.csv\"\n",
    "msft_out = out_dir / \"msft_aligned.csv\"\n",
    "vnindex_out = out_dir / \"vnindex_aligned.csv\"\n",
    "\n",
    "aapl_al.to_csv(aapl_out, index=False)\n",
    "msft_al.to_csv(msft_out, index=False)\n",
    "vnindex_al.to_csv(vnindex_out, index=False)\n",
    "\n",
    "print(\"saved:\")\n",
    "print(\" -\", aapl_out)\n",
    "print(\" -\", msft_out)\n",
    "print(\" -\", vnindex_out)\n",
    "\n",
    "# ---- THÊM từ đây (tuỳ chọn) ----\n",
    "merged = pd.concat([aapl_al.assign(symbol=\"AAPL\"),\n",
    "                    msft_al.assign(symbol=\"MSFT\"),\n",
    "                    vnindex_al.assign(symbol=\"VNINDEX\")],\n",
    "                   ignore_index=True)\n",
    "merged.to_csv(out_dir / \"all_aligned.csv\", index=False)\n",
    "print(\" -\", out_dir / \"all_aligned.csv\")\n",
    "# ---- Hết phần thêm ----"
   ]
  }
 ],
 "metadata": {
  "kernelspec": {
   "display_name": ".venv",
   "language": "python",
   "name": "python3"
  },
  "language_info": {
   "codemirror_mode": {
    "name": "ipython",
    "version": 3
   },
   "file_extension": ".py",
   "mimetype": "text/x-python",
   "name": "python",
   "nbconvert_exporter": "python",
   "pygments_lexer": "ipython3",
   "version": "3.13.2"
  }
 },
 "nbformat": 4,
 "nbformat_minor": 5
}
