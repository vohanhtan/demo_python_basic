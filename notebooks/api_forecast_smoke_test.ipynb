{
 "cells": [
  {
   "cell_type": "code",
   "execution_count": 2,
   "id": "60e8362f",
   "metadata": {},
   "outputs": [],
   "source": [
    "# method: setup\n",
    "import numpy as np\n",
    "import pandas as pd\n",
    "import matplotlib.pyplot as plt\n",
    "import yfinance as yf\n",
    "\n",
    "plt.rcParams[\"figure.figsize\"] = (10, 4)\n",
    "\n",
    "TICKER = \"AAPL\"       # change to \"MSFT\" or \"^VNINDEX\"\n",
    "LOOKBACK_DAYS = 365*2 # recent window for context\n",
    "HORIZON = 7           # forecast steps\n",
    "CONTEXT = 180         # training context size"
   ]
  },
  {
   "cell_type": "code",
   "execution_count": 3,
   "id": "a098d7b7",
   "metadata": {},
   "outputs": [
    {
     "name": "stderr",
     "output_type": "stream",
     "text": [
      "/var/folders/3p/54rhmhtx5ssbx40cgtfvc6740000gn/T/ipykernel_13244/936707622.py:3: FutureWarning: YF.download() has changed argument auto_adjust default to True\n",
      "  df = yf.download(ticker, period=\"5y\", interval=\"1d\").reset_index()\n",
      "[*********************100%***********************]  1 of 1 completed"
     ]
    },
    {
     "name": "stdout",
     "output_type": "stream",
     "text": [
      "AAPL: 2022-11-14 → 2025-10-13 | rows=730 | ctx=180\n"
     ]
    },
    {
     "name": "stderr",
     "output_type": "stream",
     "text": [
      "\n"
     ]
    },
    {
     "data": {
      "text/html": [
       "<div>\n",
       "<style scoped>\n",
       "    .dataframe tbody tr th:only-of-type {\n",
       "        vertical-align: middle;\n",
       "    }\n",
       "\n",
       "    .dataframe tbody tr th {\n",
       "        vertical-align: top;\n",
       "    }\n",
       "\n",
       "    .dataframe thead tr th {\n",
       "        text-align: left;\n",
       "    }\n",
       "</style>\n",
       "<table border=\"1\" class=\"dataframe\">\n",
       "  <thead>\n",
       "    <tr>\n",
       "      <th>Price</th>\n",
       "      <th>date</th>\n",
       "      <th>close</th>\n",
       "    </tr>\n",
       "    <tr>\n",
       "      <th>Ticker</th>\n",
       "      <th></th>\n",
       "      <th>AAPL</th>\n",
       "    </tr>\n",
       "  </thead>\n",
       "  <tbody>\n",
       "    <tr>\n",
       "      <th>727</th>\n",
       "      <td>2025-10-09</td>\n",
       "      <td>254.039993</td>\n",
       "    </tr>\n",
       "    <tr>\n",
       "      <th>728</th>\n",
       "      <td>2025-10-10</td>\n",
       "      <td>245.270004</td>\n",
       "    </tr>\n",
       "    <tr>\n",
       "      <th>729</th>\n",
       "      <td>2025-10-13</td>\n",
       "      <td>247.660004</td>\n",
       "    </tr>\n",
       "  </tbody>\n",
       "</table>\n",
       "</div>"
      ],
      "text/plain": [
       "Price        date       close\n",
       "Ticker                   AAPL\n",
       "727    2025-10-09  254.039993\n",
       "728    2025-10-10  245.270004\n",
       "729    2025-10-13  247.660004"
      ]
     },
     "execution_count": 3,
     "metadata": {},
     "output_type": "execute_result"
    }
   ],
   "source": [
    "# method: data acquisition (free EOD via yfinance)\n",
    "def fetch_series_yf(ticker: str, lookback_days: int = 365):\n",
    "    df = yf.download(ticker, period=\"5y\", interval=\"1d\").reset_index()\n",
    "    if df.empty:\n",
    "        raise ValueError(f\"no data from yfinance for {ticker}\")\n",
    "    df = df.rename(columns={\"Date\": \"date\", \"Close\": \"close\"})\n",
    "    df = df[[\"date\", \"close\"]].dropna().sort_values(\"date\").reset_index(drop=True)\n",
    "    if lookback_days:\n",
    "        df = df.tail(lookback_days).reset_index(drop=True)\n",
    "    return df\n",
    "\n",
    "df = fetch_series_yf(TICKER, LOOKBACK_DAYS)\n",
    "y = df[\"close\"].to_numpy(float)\n",
    "series = y[-CONTEXT:] if len(y) > CONTEXT else y\n",
    "\n",
    "print(f\"{TICKER}: {df['date'].min().date()} → {df['date'].max().date()} | rows={len(df)} | ctx={len(series)}\")\n",
    "df.tail(3)"
   ]
  },
  {
   "cell_type": "code",
   "execution_count": 4,
   "id": "76bc1abb",
   "metadata": {},
   "outputs": [
    {
     "name": "stdout",
     "output_type": "stream",
     "text": [
      "{'rows': 730, 'date_is_dt': True, 'close_is_num': False, 'dup_dates': 0, 'na_close': 0, 'sorted': True, 'min': '2022-11-14 00:00:00', 'max': '2025-10-13 00:00:00'}\n"
     ]
    },
    {
     "name": "stderr",
     "output_type": "stream",
     "text": [
      "/var/folders/3p/54rhmhtx5ssbx40cgtfvc6740000gn/T/ipykernel_13244/2196764379.py:8: FutureWarning: Calling int on a single element Series is deprecated and will raise a TypeError in the future. Use int(ser.iloc[0]) instead\n",
      "  \"na_close\": int(df[\"close\"].isna().sum()),\n"
     ]
    }
   ],
   "source": [
    "# method: minimal data readiness\n",
    "def report(df: pd.DataFrame):\n",
    "    return {\n",
    "        \"rows\": len(df),\n",
    "        \"date_is_dt\": pd.api.types.is_datetime64_any_dtype(df[\"date\"]),\n",
    "        \"close_is_num\": pd.api.types.is_numeric_dtype(df[\"close\"]),\n",
    "        \"dup_dates\": int(df[\"date\"].duplicated().sum()),\n",
    "        \"na_close\": int(df[\"close\"].isna().sum()),\n",
    "        \"sorted\": df[\"date\"].is_monotonic_increasing,\n",
    "        \"min\": str(df[\"date\"].min()),\n",
    "        \"max\": str(df[\"date\"].max())\n",
    "    }\n",
    "\n",
    "r = report(df)\n",
    "print(r)"
   ]
  },
  {
   "cell_type": "code",
   "execution_count": 5,
   "id": "51756eda",
   "metadata": {},
   "outputs": [
    {
     "name": "stdout",
     "output_type": "stream",
     "text": [
      "baseline samples: [247.66000366] 254.34300079345704 247.76398759413073\n"
     ]
    }
   ],
   "source": [
    "# method: baselines + classical model \n",
    "import numpy as np\n",
    "from statsmodels.tsa.holtwinters import ExponentialSmoothing\n",
    "\n",
    "def naive_last(train, h):\n",
    "    return np.array([train[-1]] * h, dtype=float)\n",
    "\n",
    "def moving_average(train, h, window=10):\n",
    "    w = train[-window:] if len(train) >= window else train\n",
    "    return np.array([float(np.mean(w))] * h, dtype=float)\n",
    "\n",
    "def forecast_holtwinters(train, h):\n",
    "    # additive trend, no seasonality for daily EOD; tweak if cần (trend='mul', seasonal='add', seasonal_periods=?)\n",
    "    model = ExponentialSmoothing(train, trend='add', seasonal=None)\n",
    "    fit = model.fit(optimized=True, use_brute=True)\n",
    "    fc = fit.forecast(h)\n",
    "    return np.asarray(fc, dtype=float)\n",
    "\n",
    "pred_naive = naive_last(series, HORIZON)\n",
    "pred_ma10  = moving_average(series, HORIZON, 10)\n",
    "\n",
    "try:\n",
    "    pred_hw = forecast_holtwinters(series, HORIZON)\n",
    "except Exception as e:\n",
    "    print(\"holt-winters failed:\", e)\n",
    "    pred_hw = pred_ma10\n",
    "\n",
    "print(\"baseline samples:\", pred_naive[0], pred_ma10[0], pred_hw[0])\n"
   ]
  },
  {
   "cell_type": "code",
   "execution_count": 6,
   "id": "b6d149cc",
   "metadata": {},
   "outputs": [
    {
     "name": "stderr",
     "output_type": "stream",
     "text": [
      "/Users/sofnb25/Documents/MS34/MSA34 - Python/Project/demo_python_basic/.venv/lib/python3.13/site-packages/tqdm/auto.py:21: TqdmWarning: IProgress not found. Please update jupyter and ipywidgets. See https://ipywidgets.readthedocs.io/en/stable/user_install.html\n",
      "  from .autonotebook import tqdm as notebook_tqdm\n"
     ]
    },
    {
     "name": "stdout",
     "output_type": "stream",
     "text": [
      "chronos failed (using arima): Converting from SentencePiece and Tiktoken failed, if a converter for SentencePiece is available, provide a model path with a SentencePiece tokenizer.model file.Currently available slow->fast converters: ['AlbertTokenizer', 'BartTokenizer', 'BarthezTokenizer', 'BertTokenizer', 'BigBirdTokenizer', 'BlenderbotTokenizer', 'CamembertTokenizer', 'CLIPTokenizer', 'CodeGenTokenizer', 'ConvBertTokenizer', 'DebertaTokenizer', 'DebertaV2Tokenizer', 'DistilBertTokenizer', 'DPRReaderTokenizer', 'DPRQuestionEncoderTokenizer', 'DPRContextEncoderTokenizer', 'ElectraTokenizer', 'FNetTokenizer', 'FunnelTokenizer', 'GPT2Tokenizer', 'HerbertTokenizer', 'LayoutLMTokenizer', 'LayoutLMv2Tokenizer', 'LayoutLMv3Tokenizer', 'LayoutXLMTokenizer', 'LongformerTokenizer', 'LEDTokenizer', 'LxmertTokenizer', 'MarkupLMTokenizer', 'MBartTokenizer', 'MBart50Tokenizer', 'MPNetTokenizer', 'MobileBertTokenizer', 'MvpTokenizer', 'NllbTokenizer', 'OpenAIGPTTokenizer', 'PegasusTokenizer', 'Qwen2Tokenizer', 'RealmTokenizer', 'ReformerTokenizer', 'RemBertTokenizer', 'RetriBertTokenizer', 'RobertaTokenizer', 'RoFormerTokenizer', 'SeamlessM4TTokenizer', 'SqueezeBertTokenizer', 'T5Tokenizer', 'UdopTokenizer', 'WhisperTokenizer', 'XLMRobertaTokenizer', 'XLNetTokenizer', 'SplinterTokenizer', 'XGLMTokenizer', 'LlamaTokenizer', 'CodeLlamaTokenizer', 'GemmaTokenizer', 'Phi3Tokenizer']\n"
     ]
    }
   ],
   "source": [
    "# method: pretrained AI (offline) — Chronos-T5 tiny; fallback to ARIMA on error\n",
    "USE_CHRONOS = True\n",
    "pred_chronos = None\n",
    "\n",
    "if USE_CHRONOS:\n",
    "    try:\n",
    "        from transformers import AutoTokenizer, AutoModelForSeq2SeqLM\n",
    "        import torch\n",
    "\n",
    "        model_id = \"amazon/chronos-t5-tiny\"\n",
    "        tok = AutoTokenizer.from_pretrained(model_id)\n",
    "        mdl = AutoModelForSeq2SeqLM.from_pretrained(model_id)\n",
    "\n",
    "        # normalize to z-score for stable generation\n",
    "        x = (series - series.mean()) / (series.std() + 1e-8)\n",
    "        ts_str = \" \".join(f\"{v:.6f}\" for v in x.astype(np.float32))\n",
    "\n",
    "        inputs = tok(ts_str, return_tensors=\"pt\")\n",
    "        with torch.no_grad():\n",
    "            out = mdl.generate(\n",
    "                **inputs,\n",
    "                max_length=inputs[\"input_ids\"].shape[1] + HORIZON,\n",
    "                do_sample=True, top_k=50, top_p=0.9, temperature=0.8\n",
    "            )\n",
    "\n",
    "        out_text = tok.batch_decode(out, skip_special_tokens=True)[0]\n",
    "        vals = [float(s) for s in out_text.strip().split()[-HORIZON:]]\n",
    "        pred_chronos = np.array(vals) * (series.std() + 1e-8) + series.mean()\n",
    "        print(\"chronos ok:\", pred_chronos[:3], \"…\")\n",
    "    except Exception as e:\n",
    "        print(\"chronos failed (using arima):\", e)\n",
    "        pred_chronos = None\n"
   ]
  },
  {
   "cell_type": "code",
   "execution_count": 7,
   "id": "25535e6c",
   "metadata": {},
   "outputs": [
    {
     "data": {
      "image/png": "[encoded data removed]",
      "text/plain": [
       "<Figure size 1000x400 with 1 Axes>"
      ]
     },
     "metadata": {},
     "output_type": "display_data"
    }
   ],
   "source": [
    "# method: pick forecast & visualize\n",
    "pred = pred_chronos if pred_chronos is not None else pred_hw\n",
    "\n",
    "last_date = pd.to_datetime(df[\"date\"].iloc[-1])\n",
    "\n",
    "# create business-day index for the next HORIZON days\n",
    "# note: older/newer pandas may not support `closed`; slice off the start instead\n",
    "future_idx = pd.bdate_range(start=last_date, periods=HORIZON + 1)[1:]\n",
    "\n",
    "import matplotlib.pyplot as plt\n",
    "plt.plot(df[\"date\"].tail(CONTEXT), series, label=\"actual\")\n",
    "plt.plot(future_idx, pred, label=(\"chronos\" if pred_chronos is not None else \"holt-winters\"))\n",
    "plt.title(f\"{TICKER}: forecast next {HORIZON} business days\")\n",
    "plt.legend(); plt.tight_layout(); plt.show()"
   ]
  },
  {
   "cell_type": "code",
   "execution_count": 8,
   "id": "afffe89a",
   "metadata": {},
   "outputs": [
    {
     "name": "stdout",
     "output_type": "stream",
     "text": [
      "naive       | MAE=3.9043 | RMSE=5.8817\n",
      "ma10        | MAE=4.0073 | RMSE=4.8347\n",
      "holtwinters | MAE=4.2089 | RMSE=6.2887\n"
     ]
    }
   ],
   "source": [
    "def mae(a,b): return float(np.mean(np.abs(a-b)))\n",
    "def rmse(a,b): return float(np.sqrt(np.mean((a-b)**2)))\n",
    "\n",
    "if len(series) > HORIZON + 30:\n",
    "    train, test = series[:-HORIZON], series[-HORIZON:]\n",
    "    preds = {\n",
    "        \"naive\": naive_last(train, HORIZON),\n",
    "        \"ma10\":  moving_average(train, HORIZON, 10)\n",
    "    }\n",
    "    try:\n",
    "        preds[\"holtwinters\"] = forecast_holtwinters(train, HORIZON)\n",
    "    except:\n",
    "        preds[\"holtwinters\"] = preds[\"ma10\"]\n",
    "\n",
    "    if pred_chronos is not None:\n",
    "        preds[\"chronos\"] = pred_chronos  # từ full-context; so sánh tham khảo\n",
    "\n",
    "    for name, p in preds.items():\n",
    "        print(f\"{name:11s} | MAE={mae(test,p):.4f} | RMSE={rmse(test,p):.4f}\")\n",
    "else:\n",
    "    print(\"not enough points for holdout check\")"
   ]
  },
  {
   "cell_type": "code",
   "execution_count": 9,
   "id": "149d6c69",
   "metadata": {},
   "outputs": [
    {
     "name": "stderr",
     "output_type": "stream",
     "text": [
      "/var/folders/3p/54rhmhtx5ssbx40cgtfvc6740000gn/T/ipykernel_13244/3094880547.py:3: DeprecationWarning: Conversion of an array with ndim > 0 to a scalar is deprecated, and will error in future. Ensure you extract a single element from your array before performing this operation. (Deprecated NumPy 1.25.)\n",
      "  last = float(hist[-1])\n"
     ]
    },
    {
     "data": {
      "text/plain": [
       "{'symbol': 'AAPL',\n",
       " 'trend': 'Uptrend',\n",
       " 'signal': 'BUY',\n",
       " 'technical_indicators': {'RSI14': 50,\n",
       "  'SMA7': 253.74571446010046,\n",
       "  'SMA30': 246.0336664835612},\n",
       " 'reason': 'avg_pred=248.08 vs last=247.66'}"
      ]
     },
     "execution_count": 9,
     "metadata": {},
     "output_type": "execute_result"
    }
   ],
   "source": [
    "# method: adapter for ai_module\n",
    "def build_result_json(symbol, hist, pred):\n",
    "    last = float(hist[-1])\n",
    "    avgp = float(np.mean(pred))\n",
    "    signal = \"BUY\" if avgp > last else (\"SELL\" if avgp < last else \"HOLD\")\n",
    "    trend = \"Uptrend\" if avgp > last else (\"Downtrend\" if avgp < last else \"Sideways\")\n",
    "    inds = {\"RSI14\": 50, \"SMA7\": float(np.mean(hist[-7:])), \"SMA30\": float(np.mean(hist[-30:]))}\n",
    "    return {\n",
    "        \"symbol\": symbol,\n",
    "        \"trend\": trend,\n",
    "        \"signal\": signal,\n",
    "        \"technical_indicators\": inds,\n",
    "        \"reason\": f\"avg_pred={avgp:.2f} vs last={last:.2f}\"\n",
    "    }\n",
    "\n",
    "result_json = build_result_json(TICKER, series, pred)\n",
    "result_json"
   ]
  },
  {
   "cell_type": "code",
   "execution_count": 10,
   "id": "ba4eb37a",
   "metadata": {},
   "outputs": [
    {
     "name": "stdout",
     "output_type": "stream",
     "text": [
      "=== AI Advice ===\n",
      "Tín hiệu mua xuất hiện cho AAPL với các chỉ báo hỗ trợ. Các yếu tố hỗ trợ: Xu hướng tăng rõ ràng, RSI trong vùng an toàn, SMA ngắn hạn vượt SMA dài hạn. Cảnh báo: Thị trường biến động, cần theo dõi sát sao. Nên đặt stop-loss để bảo vệ vốn.\n",
      "\n",
      "Confidence: 1.0\n",
      "Sentiment : Bullish\n"
     ]
    }
   ],
   "source": [
    "# --- cell 9: generate AI advice (with import path fix) ---\n",
    "\n",
    "import sys\n",
    "from pathlib import Path\n",
    "\n",
    "# ensure project root (where ai_module.py is located) is in sys.path\n",
    "ROOT_DIR = Path.cwd().parents[0]   # from /notebooks → go up one level\n",
    "if str(ROOT_DIR) not in sys.path:\n",
    "    sys.path.insert(0, str(ROOT_DIR))\n",
    "\n",
    "try:\n",
    "    from ai_module import get_ai_advice, get_ai_confidence_score, get_market_sentiment\n",
    "\n",
    "    advice = get_ai_advice(result_json)\n",
    "    conf = get_ai_confidence_score(result_json)\n",
    "    senti = get_market_sentiment(TICKER, result_json)\n",
    "\n",
    "    print(\"=== AI Advice ===\")\n",
    "    print(advice)\n",
    "    print(\"\\nConfidence:\", round(conf, 3))\n",
    "    print(\"Sentiment :\", senti)\n",
    "\n",
    "except ModuleNotFoundError as e:\n",
    "    print(\"⚠️ Could not import ai_module.py — please ensure this file exists in the project root.\")\n",
    "    print(\"Error:\", e)\n",
    "\n",
    "except Exception as e:\n",
    "    print(\"⚠️ Runtime error while generating AI advice:\", e)"
   ]
  },
  {
   "cell_type": "code",
   "execution_count": 11,
   "id": "8541929b",
   "metadata": {},
   "outputs": [
    {
     "name": "stdout",
     "output_type": "stream",
     "text": [
      "saved:\n",
      " - artifacts/aapl_forecast_7d.csv\n",
      " - artifacts/aapl_result.json\n",
      "\n",
      "Forecast summary: {'mean_pred': 248.07593949238756, 'min_pred': 247.5560196619595, 'max_pred': 248.59585932281558, 'std': 0.2079679321712149}\n"
     ]
    }
   ],
   "source": [
    "# --- cell 10: save forecast artifacts ---\n",
    "import json\n",
    "from pathlib import Path\n",
    "\n",
    "art_dir = Path(\"artifacts\"); art_dir.mkdir(parents=True, exist_ok=True)\n",
    "\n",
    "# next business days after last_date\n",
    "future_idx = pd.bdate_range(start=pd.to_datetime(df[\"date\"].iloc[-1]), periods=HORIZON + 1)[1:]\n",
    "\n",
    "# compute ±1 std range for visualization\n",
    "pred_std = np.std(pred)\n",
    "pred_min = pred - pred_std\n",
    "pred_max = pred + pred_std\n",
    "\n",
    "forecast_df = pd.DataFrame({\n",
    "    \"date\": future_idx,\n",
    "    \"forecast\": pred,\n",
    "    \"forecast_min\": pred_min,\n",
    "    \"forecast_max\": pred_max\n",
    "})\n",
    "\n",
    "csv_path = art_dir / f\"{TICKER.lower()}_forecast_{HORIZON}d.csv\"\n",
    "json_path = art_dir / f\"{TICKER.lower()}_result.json\"\n",
    "\n",
    "forecast_df.to_csv(csv_path, index=False)\n",
    "\n",
    "# add min/max summary to JSON\n",
    "result_json[\"forecast_summary\"] = {\n",
    "    \"mean_pred\": float(np.mean(pred)),\n",
    "    \"min_pred\": float(np.min(pred_min)),\n",
    "    \"max_pred\": float(np.max(pred_max)),\n",
    "    \"std\": float(pred_std)\n",
    "}\n",
    "\n",
    "with open(json_path, \"w\") as f:\n",
    "    json.dump(result_json, f, ensure_ascii=False, indent=2)\n",
    "\n",
    "print(\"saved:\")\n",
    "print(\" -\", csv_path)\n",
    "print(\" -\", json_path)\n",
    "print(\"\\nForecast summary:\", result_json[\"forecast_summary\"])"
   ]
  },
  {
   "cell_type": "code",
   "execution_count": 12,
   "id": "bc803684",
   "metadata": {},
   "outputs": [
    {
     "data": {
      "text/html": [
       "<div>\n",
       "<style scoped>\n",
       "    .dataframe tbody tr th:only-of-type {\n",
       "        vertical-align: middle;\n",
       "    }\n",
       "\n",
       "    .dataframe tbody tr th {\n",
       "        vertical-align: top;\n",
       "    }\n",
       "\n",
       "    .dataframe thead th {\n",
       "        text-align: right;\n",
       "    }\n",
       "</style>\n",
       "<table border=\"1\" class=\"dataframe\">\n",
       "  <thead>\n",
       "    <tr style=\"text-align: right;\">\n",
       "      <th></th>\n",
       "      <th>model</th>\n",
       "      <th>MAE</th>\n",
       "      <th>RMSE</th>\n",
       "    </tr>\n",
       "  </thead>\n",
       "  <tbody>\n",
       "    <tr>\n",
       "      <th>0</th>\n",
       "      <td>ma10</td>\n",
       "      <td>4.007286</td>\n",
       "      <td>4.834737</td>\n",
       "    </tr>\n",
       "    <tr>\n",
       "      <th>1</th>\n",
       "      <td>naive</td>\n",
       "      <td>3.904284</td>\n",
       "      <td>5.881712</td>\n",
       "    </tr>\n",
       "    <tr>\n",
       "      <th>2</th>\n",
       "      <td>holt-winters</td>\n",
       "      <td>4.208883</td>\n",
       "      <td>6.288739</td>\n",
       "    </tr>\n",
       "  </tbody>\n",
       "</table>\n",
       "</div>"
      ],
      "text/plain": [
       "          model       MAE      RMSE\n",
       "0          ma10  4.007286  4.834737\n",
       "1         naive  3.904284  5.881712\n",
       "2  holt-winters  4.208883  6.288739"
      ]
     },
     "metadata": {},
     "output_type": "display_data"
    }
   ],
   "source": [
    "# --- cell 11: quick baseline comparison ---\n",
    "def mae(a, b): return float(np.mean(np.abs(a - b)))\n",
    "def rmse(a, b): return float(np.sqrt(np.mean((a - b) ** 2)))\n",
    "\n",
    "if len(series) > HORIZON + 30:\n",
    "    train, test = series[:-HORIZON], series[-HORIZON:]\n",
    "\n",
    "    # baselines\n",
    "    bench = {\n",
    "        \"naive\":  np.array([train[-1]] * HORIZON),\n",
    "        \"ma10\":   np.array([np.mean(train[-10:])] * HORIZON),\n",
    "        \"holt-winters\": forecast_holtwinters(train, HORIZON)\n",
    "    }\n",
    "\n",
    "    rows = []\n",
    "    for name, p in bench.items():\n",
    "        rows.append({\"model\": name, \"MAE\": mae(test, p), \"RMSE\": rmse(test, p)})\n",
    "\n",
    "    comp = pd.DataFrame(rows).sort_values(\"RMSE\").reset_index(drop=True)\n",
    "    display(comp)\n",
    "else:\n",
    "    print(\"Not enough data for holdout comparison.\")"
   ]
  }
 ],
 "metadata": {
  "kernelspec": {
   "display_name": ".venv",
   "language": "python",
   "name": "python3"
  },
  "language_info": {
   "codemirror_mode": {
    "name": "ipython",
    "version": 3
   },
   "file_extension": ".py",
   "mimetype": "text/x-python",
   "name": "python",
   "nbconvert_exporter": "python",
   "pygments_lexer": "ipython3",
   "version": "3.13.2"
  }
 },
 "nbformat": 4,
 "nbformat_minor": 5
}
